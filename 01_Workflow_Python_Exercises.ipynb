{
  "nbformat": 4,
  "nbformat_minor": 0,
  "metadata": {
    "colab": {
      "provenance": [],
      "authorship_tag": "ABX9TyNpD5bQs6B43/Jt+rd6PpSS",
      "include_colab_link": true
    },
    "kernelspec": {
      "name": "python3",
      "display_name": "Python 3"
    },
    "language_info": {
      "name": "python"
    }
  },
  "cells": [
    {
      "cell_type": "markdown",
      "metadata": {
        "id": "view-in-github",
        "colab_type": "text"
      },
      "source": [
        "<a href=\"https://colab.research.google.com/github/aliroshandel98/Pytorch/blob/main/01_Workflow_Python_Exercises.ipynb\" target=\"_parent\"><img src=\"https://colab.research.google.com/assets/colab-badge.svg\" alt=\"Open In Colab\"/></a>"
      ]
    },
    {
      "cell_type": "markdown",
      "source": [
        "# Hello and welcome guys\n",
        "My name is ali and today im gonna do exercises in one another courses in pytorch zero to mastery.\n",
        "\n",
        "here is the course:https://www.learnpytorch.io\n",
        "\n",
        "Im so glad that youre with me during my way to know coding and doing deep learning with pytorch.\n",
        "\n",
        "## Lets go"
      ],
      "metadata": {
        "id": "Cts5B_KHvvhT"
      }
    },
    {
      "cell_type": "code",
      "execution_count": 40,
      "metadata": {
        "id": "ntVpu1Wovk6C"
      },
      "outputs": [],
      "source": [
        "import torch\n",
        "from torch import nn\n",
        "import matplotlib.pyplot as plt"
      ]
    },
    {
      "cell_type": "markdown",
      "source": [
        "##1.Create a straight line dataset using the linear regression formula (weight * X + bias).\n",
        "Set weight=0.3 and bias=0.9 there should be at least 100 datapoints total.\n",
        "\n",
        "Split the data into 80% training, 20% testing.\n",
        "\n",
        "Plot the training and testing data so it becomes visual."
      ],
      "metadata": {
        "id": "TYF-f7VpwskB"
      }
    },
    {
      "cell_type": "code",
      "source": [
        "weight = 0.3\n",
        "bias = 0.9\n",
        "\n",
        "datapoints = 100\n",
        "start = 0\n",
        "end = 1\n",
        "step = float((end - start) / datapoints)\n",
        "x = torch.arange(start, end, step).unsqueeze(dim=1)\n",
        "y = weight * x + bias\n",
        "sample = int(0.8*len(x))\n",
        "x_train = x[:sample]\n",
        "y_train = y[:sample]\n",
        "x_test = x[sample:]\n",
        "y_test = y[sample:]\n",
        "def plot(x_train, y_train, x_test, y_test):\n",
        "  plt.figure(figsize=(5,5))\n",
        "  plt.scatter(x_train, y_train, label='training data', s=4, c='b')\n",
        "  plt.scatter(x_test, y_test, label='test data', s=4, c='r')\n",
        "  plt.legend()\n",
        "plot(x_train, y_train, x_test, y_test)"
      ],
      "metadata": {
        "colab": {
          "base_uri": "https://localhost:8080/",
          "height": 445
        },
        "id": "XWIY3WnsxKw_",
        "outputId": "4afd7331-8f2e-4477-ce34-6700dc2549a1"
      },
      "execution_count": 41,
      "outputs": [
        {
          "output_type": "display_data",
          "data": {
            "text/plain": [
              "<Figure size 500x500 with 1 Axes>"
            ],
            "image/png": "[encoded data removed]"
          },
          "metadata": {}
        }
      ]
    },
    {
      "cell_type": "markdown",
      "source": [
        "#2.Build a PyTorch model by subclassing nn.Module.\n",
        "\n",
        "Inside should be a randomly initialized nn.Parameter() with requires_grad=True, one for weights and one for bias.\n",
        "\n",
        "Implement the forward() method to compute the linear regression function you used to create the dataset in 1.\n",
        "\n",
        "Once you've constructed the model, make an instance of it and check its state_dict().\n",
        "\n",
        "Note: If you'd like to use nn.Linear() instead of nn.Parameter() you can."
      ],
      "metadata": {
        "id": "8XCVX_C1zN94"
      }
    },
    {
      "cell_type": "code",
      "source": [
        "class LinearRegressionModel(nn.Module):\n",
        "  def __init__(self):\n",
        "    super().__init__()\n",
        "\n",
        "    self.layer = nn.Linear(in_features=1,\n",
        "                           out_features=1,\n",
        "                           bias=True)\n",
        "\n",
        "  def forward(self, x: torch.tensor) -> torch.Tensor:\n",
        "    return self.layer(x)\n",
        "\n",
        "model = LinearRegressionModel()\n",
        "model.state_dict()"
      ],
      "metadata": {
        "colab": {
          "base_uri": "https://localhost:8080/"
        },
        "id": "sV73jpniy8T0",
        "outputId": "88be1447-4922-4824-9ff9-5b83598fe78f"
      },
      "execution_count": 42,
      "outputs": [
        {
          "output_type": "execute_result",
          "data": {
            "text/plain": [
              "OrderedDict([('layer.weight', tensor([[0.0979]])),\n",
              "             ('layer.bias', tensor([0.8975]))])"
            ]
          },
          "metadata": {},
          "execution_count": 42
        }
      ]
    },
    {
      "cell_type": "markdown",
      "source": [
        "##3.Create a loss function and optimizer using nn.L1Loss() and torch.optim.SGD(params, lr) respectively.\n",
        "\n",
        "Set the learning rate of the optimizer to be 0.01 and the parameters to optimize should be the model parameters from the model you created in 2.\n",
        "\n",
        "Write a training loop to perform the appropriate training steps for 300 epochs.\n",
        "\n",
        "The training loop should test the model on the test dataset every 20 epochs."
      ],
      "metadata": {
        "id": "3JmYtLSI8eDO"
      }
    },
    {
      "cell_type": "code",
      "source": [
        "loss_fn = nn.L1Loss()\n",
        "optimizer = torch.optim.SGD(params=model.parameters(),\n",
        "                            lr=0.01)\n",
        "epochs = 300\n",
        "for epoch in range(epochs):\n",
        "  model.train()\n",
        "  y_preds = model(x_train)\n",
        "  loss = loss_fn(y_preds, y_train)\n",
        "  optimizer.zero_grad()\n",
        "  loss.backward()\n",
        "  optimizer.step()\n",
        "  if epoch % 15 == 0:\n",
        "    model.eval()\n",
        "    with torch.inference_mode():\n",
        "      y_preds_test = model(x_test)\n",
        "      test_loss = loss_fn(y_preds_test, y_test)\n",
        "    print(f\"loss: {loss}\")\n"
      ],
      "metadata": {
        "colab": {
          "base_uri": "https://localhost:8080/"
        },
        "id": "SbB-U_it8Rrn",
        "outputId": "60cbb0c5-e372-498c-9c66-d4121c297fb8"
      },
      "execution_count": 43,
      "outputs": [
        {
          "output_type": "stream",
          "name": "stdout",
          "text": [
            "loss: 0.0823858231306076\n",
            "loss: 0.03111877106130123\n",
            "loss: 0.025657350197434425\n",
            "loss: 0.020518703386187553\n",
            "loss: 0.01538006216287613\n",
            "loss: 0.010241423733532429\n",
            "loss: 0.005102775990962982\n",
            "loss: 0.007540355436503887\n",
            "loss: 0.004019889049232006\n",
            "loss: 0.007540355436503887\n",
            "loss: 0.004019889049232006\n",
            "loss: 0.007540355436503887\n",
            "loss: 0.004019889049232006\n",
            "loss: 0.007540355436503887\n",
            "loss: 0.004019889049232006\n",
            "loss: 0.007540355436503887\n",
            "loss: 0.004019889049232006\n",
            "loss: 0.007540355436503887\n",
            "loss: 0.004019889049232006\n",
            "loss: 0.007540355436503887\n"
          ]
        }
      ]
    },
    {
      "cell_type": "markdown",
      "source": [
        "#4.Make predictions with the trained model on the test data.\n",
        "\n",
        "###Visualize these predictions against the original training and testing data (note: you may need to make sure the predictions are not on the GPU if you want to use non-CUDA-enabled libraries such as matplotlib to plot)."
      ],
      "metadata": {
        "id": "tEcysZ4-CEJf"
      }
    },
    {
      "cell_type": "code",
      "source": [
        "def plot(x_train, y_train, x_test, y_test, predictions=None):\n",
        "  plt.figure(figsize=(5,5))\n",
        "  plt.scatter(x_train, y_train, label='training data', s=4, c='b')\n",
        "  plt.scatter(x_test, y_test, label='test data', s=4, c='r')\n",
        "  if predictions != None:\n",
        "    plt.scatter(x_test, predictions, label='preds', s=4, c='g')\n",
        "  plt.legend()\n",
        "model.eval()\n",
        "with torch.inference_mode():\n",
        "  preds = model(x_test)\n",
        "plot(x_train, y_train, x_test, y_test, preds)"
      ],
      "metadata": {
        "colab": {
          "base_uri": "https://localhost:8080/",
          "height": 445
        },
        "id": "UTLUpFs0-uIW",
        "outputId": "b23dbdbc-67eb-40a7-87a4-c605a8eb1b44"
      },
      "execution_count": 50,
      "outputs": [
        {
          "output_type": "display_data",
          "data": {
            "text/plain": [
              "<Figure size 500x500 with 1 Axes>"
            ],
            "image/png": "[encoded data removed]"
          },
          "metadata": {}
        }
      ]
    },
    {
      "cell_type": "markdown",
      "source": [
        "## 5.Save your trained model's state_dict() to file.\n",
        "\n",
        "Create a new instance of your model class you made in 2. and load in the state_dict() you just saved to it.\n",
        "\n",
        "Perform predictions on your test data with the loaded model and confirm they match the original model predictions from 4."
      ],
      "metadata": {
        "id": "G6mwvPppH7mu"
      }
    },
    {
      "cell_type": "code",
      "source": [
        "from pathlib import Path\n",
        "MODEL_PATH = Path(\"exercises\")\n",
        "MODEL_PATH.mkdir(parents=True, exist_ok=True)\n",
        "\n",
        "MODEL_NAME = \"exercise_model_workflow.pth\"\n",
        "MODEL_SAVE_PATH = MODEL_PATH / MODEL_NAME\n",
        "torch.save(obj=model.state_dict(),\n",
        "           f=MODEL_SAVE_PATH)"
      ],
      "metadata": {
        "id": "aUJ09tnYFpGV"
      },
      "execution_count": 51,
      "outputs": []
    },
    {
      "cell_type": "code",
      "source": [
        "loaded_model = LinearRegressionModel()\n",
        "loaded_model.load_state_dict(torch.load(MODEL_SAVE_PATH))\n",
        "loaded_model.eval()\n",
        "with torch.inference_mode():\n",
        "  y_predsL = loaded_model(x_test)\n",
        "lossL = loss_fn(y_predsL, y_test)\n",
        "y_predsL == preds"
      ],
      "metadata": {
        "colab": {
          "base_uri": "https://localhost:8080/"
        },
        "id": "CYD9bTobIiXg",
        "outputId": "f0ecf193-b3de-459e-a3e0-de7e97f75e4b"
      },
      "execution_count": 52,
      "outputs": [
        {
          "output_type": "execute_result",
          "data": {
            "text/plain": [
              "tensor([[True],\n",
              "        [True],\n",
              "        [True],\n",
              "        [True],\n",
              "        [True],\n",
              "        [True],\n",
              "        [True],\n",
              "        [True],\n",
              "        [True],\n",
              "        [True],\n",
              "        [True],\n",
              "        [True],\n",
              "        [True],\n",
              "        [True],\n",
              "        [True],\n",
              "        [True],\n",
              "        [True],\n",
              "        [True],\n",
              "        [True],\n",
              "        [True]])"
            ]
          },
          "metadata": {},
          "execution_count": 52
        }
      ]
    },
    {
      "cell_type": "code",
      "source": [],
      "metadata": {
        "id": "L_mDVhjdJJyz"
      },
      "execution_count": null,
      "outputs": []
    }
  ]
}