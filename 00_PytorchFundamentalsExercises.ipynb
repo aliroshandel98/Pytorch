{
  "nbformat": 4,
  "nbformat_minor": 0,
  "metadata": {
    "colab": {
      "provenance": [],
      "authorship_tag": "ABX9TyMU9OMdwQZEPoSWxG3b3kLN",
      "include_colab_link": true
    },
    "kernelspec": {
      "name": "python3",
      "display_name": "Python 3"
    },
    "language_info": {
      "name": "python"
    }
  },
  "cells": [
    {
      "cell_type": "markdown",
      "metadata": {
        "id": "view-in-github",
        "colab_type": "text"
      },
      "source": [
        "<a href=\"https://colab.research.google.com/github/aliroshandel98/Pytorch/blob/main/00_PytorchFundamentalsExercises.ipynb\" target=\"_parent\"><img src=\"https://colab.research.google.com/assets/colab-badge.svg\" alt=\"Open In Colab\"/></a>"
      ]
    },
    {
      "cell_type": "markdown",
      "source": [
        "Hello Everybody\n",
        "Im Ali and here im gonna share my exercises and experiences during learning deep learning with pytorch.\n",
        "this is first exercise notebook of me and all of the content that ive learned is from here: https://www.learnpytorch.io/00_pytorch_fundamentals/\n"
      ],
      "metadata": {
        "id": "xnJ8tQxy-sSj"
      }
    },
    {
      "cell_type": "code",
      "source": [
        "\n",
        "# Import Usable Libraries\n",
        "\n",
        "import torch\n",
        "import numpy as np"
      ],
      "metadata": {
        "id": "5SypKUeZSdNF"
      },
      "execution_count": 1,
      "outputs": []
    },
    {
      "cell_type": "markdown",
      "source": [
        "**1.Create a random tensor with shape (7, 7).**"
      ],
      "metadata": {
        "id": "t4MmVfexSVe7"
      }
    },
    {
      "cell_type": "code",
      "execution_count": 2,
      "metadata": {
        "colab": {
          "base_uri": "https://localhost:8080/"
        },
        "id": "Rsq1Pp9S-ixE",
        "outputId": "64b2d6e3-81fe-423e-e6fb-988e4e825cad"
      },
      "outputs": [
        {
          "output_type": "execute_result",
          "data": {
            "text/plain": [
              "tensor([[0.0804, 0.1550, 0.5129, 0.1567, 0.4128, 0.6079, 0.0712],\n",
              "        [0.8650, 0.2012, 0.5213, 0.6805, 0.6825, 0.8083, 0.9313],\n",
              "        [0.3914, 0.1759, 0.9026, 0.5126, 0.1582, 0.9489, 0.7089],\n",
              "        [0.1033, 0.6346, 0.1153, 0.7891, 0.3426, 0.5822, 0.2281],\n",
              "        [0.6123, 0.9929, 0.5133, 0.2471, 0.1800, 0.2952, 0.1220],\n",
              "        [0.7882, 0.1787, 0.3025, 0.8482, 0.7875, 0.9275, 0.2792],\n",
              "        [0.5851, 0.9549, 0.4100, 0.9240, 0.5945, 0.8249, 0.7714]])"
            ]
          },
          "metadata": {},
          "execution_count": 2
        }
      ],
      "source": [
        "tensor = torch.rand(7, 7)\n",
        "tensor"
      ]
    },
    {
      "cell_type": "markdown",
      "source": [
        "**2.Perform a matrix multiplication on the tensor from 2 with another random tensor with shape (1, 7) (hint: you may have to transpose the second tensor).**\n"
      ],
      "metadata": {
        "id": "2jO3u4tKS_pd"
      }
    },
    {
      "cell_type": "code",
      "source": [
        "matmul = torch.matmul(tensor, torch.rand(1, 7).T)\n",
        "matmul"
      ],
      "metadata": {
        "colab": {
          "base_uri": "https://localhost:8080/"
        },
        "id": "I2W3KgRoSzt_",
        "outputId": "596f754d-73de-4b37-dc7f-603001f95db2"
      },
      "execution_count": 3,
      "outputs": [
        {
          "output_type": "execute_result",
          "data": {
            "text/plain": [
              "tensor([[1.1132],\n",
              "        [1.9525],\n",
              "        [1.7204],\n",
              "        [1.2424],\n",
              "        [1.3284],\n",
              "        [1.9405],\n",
              "        [2.1078]])"
            ]
          },
          "metadata": {},
          "execution_count": 3
        }
      ]
    },
    {
      "cell_type": "markdown",
      "source": [
        "**3.Set the random seed to 0 and do exercises 2 & 3 over again.**"
      ],
      "metadata": {
        "id": "Z-uIHZFoTgzX"
      }
    },
    {
      "cell_type": "code",
      "source": [
        "Random_Seed = 0\n",
        "torch.manual_seed(Random_Seed)\n",
        "tensor = torch.rand(7, 7)\n",
        "torch.manual_seed(Random_Seed)\n",
        "matmul = torch.matmul(tensor, torch.rand(1, 7).T)\n",
        "print(f\"tensor(7, 7) is:\\n {tensor}\")\n",
        "print(f\"matmul is:\\n {matmul}\")\n",
        "\n"
      ],
      "metadata": {
        "colab": {
          "base_uri": "https://localhost:8080/"
        },
        "id": "Sqr_X3KATXVV",
        "outputId": "3027ab34-358e-46e5-b13b-a3b293897b1a"
      },
      "execution_count": 4,
      "outputs": [
        {
          "output_type": "stream",
          "name": "stdout",
          "text": [
            "tensor(7, 7) is:\n",
            " tensor([[0.4963, 0.7682, 0.0885, 0.1320, 0.3074, 0.6341, 0.4901],\n",
            "        [0.8964, 0.4556, 0.6323, 0.3489, 0.4017, 0.0223, 0.1689],\n",
            "        [0.2939, 0.5185, 0.6977, 0.8000, 0.1610, 0.2823, 0.6816],\n",
            "        [0.9152, 0.3971, 0.8742, 0.4194, 0.5529, 0.9527, 0.0362],\n",
            "        [0.1852, 0.3734, 0.3051, 0.9320, 0.1759, 0.2698, 0.1507],\n",
            "        [0.0317, 0.2081, 0.9298, 0.7231, 0.7423, 0.5263, 0.2437],\n",
            "        [0.5846, 0.0332, 0.1387, 0.2422, 0.8155, 0.7932, 0.2783]])\n",
            "matmul is:\n",
            " tensor([[1.5985],\n",
            "        [1.1173],\n",
            "        [1.2741],\n",
            "        [1.6838],\n",
            "        [0.8279],\n",
            "        [1.0347],\n",
            "        [1.2498]])\n"
          ]
        }
      ]
    },
    {
      "cell_type": "markdown",
      "source": [
        "**4.Speaking of random seeds, we saw how to set it with torch.manual_seed() but is there a GPU equivalent? (hint: you'll need to look into the documentation for torch.cuda for this one). If there is, set the GPU random seed to 1234.**"
      ],
      "metadata": {
        "id": "RIa0W23zXtje"
      }
    },
    {
      "cell_type": "code",
      "source": [
        "random_seed = 1234\n",
        "if torch.cuda.is_available():\n",
        "  torch.cuda.manual_seed(random_seed)\n",
        "  print(\"cuda is OK\")\n",
        "else:\n",
        "  torch.manual_seed(random_seed)\n",
        "  print(\"cuda isnt OK\")\n",
        "\n",
        "tensor = torch.rand(10, 10).to('cuda')\n",
        "tensor.device\n",
        ""
      ],
      "metadata": {
        "colab": {
          "base_uri": "https://localhost:8080/"
        },
        "id": "jsFlrrZzT3cM",
        "outputId": "054dd119-14f8-4d61-c381-e84e4c77a0a7"
      },
      "execution_count": 17,
      "outputs": [
        {
          "output_type": "stream",
          "name": "stdout",
          "text": [
            "cuda is OK\n"
          ]
        },
        {
          "output_type": "execute_result",
          "data": {
            "text/plain": [
              "device(type='cpu')"
            ]
          },
          "metadata": {},
          "execution_count": 17
        }
      ]
    },
    {
      "cell_type": "markdown",
      "source": [
        "**5.Create two random tensors of shape (2, 3) and send them both to the GPU (you'll need access to a GPU for this). Set torch.manual_seed(1234) when creating the tensors (this doesn't have to be the GPU random seed).**"
      ],
      "metadata": {
        "id": "_vQREjL2bsVc"
      }
    },
    {
      "cell_type": "code",
      "source": [
        "torch.manual_seed(1234)\n",
        "random_tensor_one = torch.rand(2,3).to('cuda')\n",
        "torch.manual_seed(1234)\n",
        "random_tensor_two = torch.rand(2,3).to('cuda')\n",
        "random_tensor_one == random_tensor_two"
      ],
      "metadata": {
        "colab": {
          "base_uri": "https://localhost:8080/"
        },
        "id": "J62YFoJkYs85",
        "outputId": "83e4fa09-0013-438e-9256-33806a1685c0"
      },
      "execution_count": 18,
      "outputs": [
        {
          "output_type": "execute_result",
          "data": {
            "text/plain": [
              "tensor([[True, True, True],\n",
              "        [True, True, True]], device='cuda:0')"
            ]
          },
          "metadata": {},
          "execution_count": 18
        }
      ]
    },
    {
      "cell_type": "markdown",
      "source": [
        "**6.Perform a matrix multiplication on the tensors you created in 6 (again, you may have to adjust the shapes of one of the tensors).**"
      ],
      "metadata": {
        "id": "rqYbRRFQccFR"
      }
    },
    {
      "cell_type": "code",
      "source": [
        "matmul = torch.matmul(random_tensor_one, random_tensor_two.T)\n",
        "matmul"
      ],
      "metadata": {
        "colab": {
          "base_uri": "https://localhost:8080/"
        },
        "id": "_goLWlLucS6N",
        "outputId": "a10baf5e-a767-47be-f81f-ac3f186fd4a8"
      },
      "execution_count": 19,
      "outputs": [
        {
          "output_type": "execute_result",
          "data": {
            "text/plain": [
              "tensor([[0.2299, 0.2161],\n",
              "        [0.2161, 0.6287]], device='cuda:0')"
            ]
          },
          "metadata": {},
          "execution_count": 19
        }
      ]
    },
    {
      "cell_type": "markdown",
      "source": [
        "**7.Find the maximum and minimum values of the output of 6.**"
      ],
      "metadata": {
        "id": "loK_yZfqcv5Q"
      }
    },
    {
      "cell_type": "code",
      "source": [
        "print(f\"max is: {torch.max(matmul)}\")\n",
        "print(f\"min is: {torch.min(matmul)}\")"
      ],
      "metadata": {
        "colab": {
          "base_uri": "https://localhost:8080/"
        },
        "id": "SU4oRVkVcpG4",
        "outputId": "3fa33ae4-6f75-44aa-e8bf-4aa147ff641e"
      },
      "execution_count": 20,
      "outputs": [
        {
          "output_type": "stream",
          "name": "stdout",
          "text": [
            "max is: 0.628727912902832\n",
            "min is: 0.21611443161964417\n"
          ]
        }
      ]
    },
    {
      "cell_type": "markdown",
      "source": [
        "**8.Find the maximum and minimum index values of the output of 6.**"
      ],
      "metadata": {
        "id": "A_Plr_JEdUA4"
      }
    },
    {
      "cell_type": "code",
      "source": [
        "print(f\"max is: {torch.argmax(matmul)}\")\n",
        "print(f\"min is: {torch.argmin(matmul)}\")"
      ],
      "metadata": {
        "colab": {
          "base_uri": "https://localhost:8080/"
        },
        "id": "-rJ7jUdzdOYe",
        "outputId": "04621fbc-8da6-44d6-f070-4325eb24bc49"
      },
      "execution_count": 21,
      "outputs": [
        {
          "output_type": "stream",
          "name": "stdout",
          "text": [
            "max is: 3\n",
            "min is: 1\n"
          ]
        }
      ]
    },
    {
      "cell_type": "markdown",
      "source": [
        "**9.Make a random tensor with shape (1, 1, 1, 10) and then create a new tensor with all the 1 dimensions removed to be left with a tensor of shape (10). Set the seed to 7 when you create it and print out the first tensor and it's shape as well as the second tensor and it's shape.**"
      ],
      "metadata": {
        "id": "RqNh0QSadxA_"
      }
    },
    {
      "cell_type": "code",
      "source": [
        "torch.manual_seed(7)\n",
        "tensor = torch.rand(1, 1, 1, 10)\n",
        "tensor_squeezed = torch.squeeze(tensor)\n",
        "print(f\"the first tensor is:\\n {tensor} \\n and its shape is:\\n {tensor.shape}\")\n",
        "print(f\"the second tensor is:\\n {tensor_squeezed} \\n and its shape is:\\n {tensor_squeezed.shape}\")"
      ],
      "metadata": {
        "colab": {
          "base_uri": "https://localhost:8080/"
        },
        "id": "oubb_r5odgQO",
        "outputId": "bb934518-fc6f-47f0-8023-eedaad48b1eb"
      },
      "execution_count": 25,
      "outputs": [
        {
          "output_type": "stream",
          "name": "stdout",
          "text": [
            "the first tensor is:\n",
            " tensor([[[[0.5349, 0.1988, 0.6592, 0.6569, 0.2328, 0.4251, 0.2071, 0.6297,\n",
            "           0.3653, 0.8513]]]]) \n",
            " and its shape is:\n",
            " torch.Size([1, 1, 1, 10])\n",
            "the second tensor is:\n",
            " tensor([0.5349, 0.1988, 0.6592, 0.6569, 0.2328, 0.4251, 0.2071, 0.6297, 0.3653,\n",
            "        0.8513]) \n",
            " and its shape is:\n",
            " torch.Size([10])\n"
          ]
        }
      ]
    },
    {
      "cell_type": "code",
      "source": [],
      "metadata": {
        "id": "6I2hvsZjeoMG"
      },
      "execution_count": null,
      "outputs": []
    },
    {
      "cell_type": "markdown",
      "source": [
        "And its all done (:\n",
        "Wish you all best."
      ],
      "metadata": {
        "id": "wVdrtLDWe9wv"
      }
    }
  ]
}